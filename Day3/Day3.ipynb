{
 "cells": [
  {
   "cell_type": "code",
   "execution_count": 23,
   "id": "cdf8accd",
   "metadata": {},
   "outputs": [],
   "source": [
    "#file = open('example.txt', 'r')\n",
    "file = open('input.txt', 'r')\n",
    "\n",
    "lines = file.readlines()"
   ]
  },
  {
   "cell_type": "code",
   "execution_count": 2,
   "id": "19367067",
   "metadata": {},
   "outputs": [
    {
     "name": "stdout",
     "output_type": "stream",
     "text": [
      "97\n",
      "122\n",
      "65\n",
      "90\n"
     ]
    }
   ],
   "source": [
    "# checking to see how to convert characters to integers\n",
    "\n",
    "print(ord('a'))\n",
    "print(ord('z'))\n",
    "print(ord('A'))\n",
    "print(ord('Z'))"
   ]
  },
  {
   "cell_type": "code",
   "execution_count": 5,
   "id": "7d9830dd",
   "metadata": {},
   "outputs": [],
   "source": [
    "def conv_line(line):\n",
    "    line_vals = []\n",
    "    for ch in line:\n",
    "        line_vals.append(conv_char(ord(ch)))\n",
    "    return line_vals\n",
    "    \n",
    "def conv_char(c):\n",
    "    if c < ord('a'): # uppercase\n",
    "        return c - ord('A') + 27\n",
    "    return c - ord('a') + 1 # lowercase"
   ]
  },
  {
   "cell_type": "code",
   "execution_count": 18,
   "id": "5a152ab0",
   "metadata": {},
   "outputs": [
    {
     "name": "stdout",
     "output_type": "stream",
     "text": [
      "7831\n"
     ]
    }
   ],
   "source": [
    "# part 1\n",
    "\n",
    "result = 0\n",
    "\n",
    "for line in lines:\n",
    "    line = line.strip()\n",
    "    keeper = [0]*52\n",
    "    line_vals = conv_line(line)\n",
    "    # record entries\n",
    "    for i in range(0,len(line)//2):\n",
    "        keeper[line_vals[i]-1] = 1\n",
    "    # check for the first duplicate\n",
    "    for j in range(len(line)//2, len(line)):\n",
    "        if keeper[line_vals[j]-1] == 1:\n",
    "            result += line_vals[j]\n",
    "            break\n",
    "\n",
    "print(result)"
   ]
  },
  {
   "cell_type": "code",
   "execution_count": 24,
   "id": "55f1a15d",
   "metadata": {},
   "outputs": [
    {
     "name": "stdout",
     "output_type": "stream",
     "text": [
      "2683\n"
     ]
    }
   ],
   "source": [
    "# part 2\n",
    "\n",
    "result = 0\n",
    "\n",
    "for l, line in enumerate(lines):\n",
    "    line = line.strip()\n",
    "    line_vals = conv_line(line)\n",
    "    if l % 3 == 0: # first line in group, record entries\n",
    "        keeper_1 = [0]*52\n",
    "        for i in range(0,len(line)):\n",
    "            keeper_1[line_vals[i]-1] = 1\n",
    "    elif l % 3 == 1: # second line in group, record entries\n",
    "        keeper_2 = [0]*52\n",
    "        for i in range(0,len(line)):\n",
    "            keeper_2[line_vals[i]-1] = 1\n",
    "    else: # third line in group, check for duplicates\n",
    "        for j in range(0,len(line)):\n",
    "            if keeper_1[line_vals[j]-1] + keeper_2[line_vals[j]-1] == 2:\n",
    "                result += line_vals[j]\n",
    "                break\n",
    "\n",
    "print(result)"
   ]
  }
 ],
 "metadata": {
  "kernelspec": {
   "display_name": "Python 3 (ipykernel)",
   "language": "python",
   "name": "python3"
  },
  "language_info": {
   "codemirror_mode": {
    "name": "ipython",
    "version": 3
   },
   "file_extension": ".py",
   "mimetype": "text/x-python",
   "name": "python",
   "nbconvert_exporter": "python",
   "pygments_lexer": "ipython3",
   "version": "3.9.7"
  }
 },
 "nbformat": 4,
 "nbformat_minor": 5
}
