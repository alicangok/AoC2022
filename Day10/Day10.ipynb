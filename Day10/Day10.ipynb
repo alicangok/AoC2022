{
 "cells": [
  {
   "cell_type": "code",
   "execution_count": 11,
   "id": "d5e51371",
   "metadata": {},
   "outputs": [],
   "source": [
    "#file = open('example.txt', 'r')\n",
    "file = open('input.txt', 'r')\n",
    "\n",
    "lines = file.readlines()"
   ]
  },
  {
   "cell_type": "code",
   "execution_count": 12,
   "id": "64e2d028",
   "metadata": {},
   "outputs": [
    {
     "name": "stdout",
     "output_type": "stream",
     "text": [
      "14720\n"
     ]
    }
   ],
   "source": [
    "# part 1\n",
    "\n",
    "x_vector = []\n",
    "x = 1\n",
    "\n",
    "for line in lines:\n",
    "    if 'noop' in line.strip():\n",
    "        x_vector.append(x)\n",
    "    else:\n",
    "        x_vector.append(x)\n",
    "        x_vector.append(x)\n",
    "        x += int(line.strip().rpartition(' ')[-1])\n",
    "        \n",
    "print(sum( (k+1)*x_vector[k] for k in range(19, 239, 40)))"
   ]
  },
  {
   "cell_type": "code",
   "execution_count": 21,
   "id": "e4617bb6",
   "metadata": {},
   "outputs": [
    {
     "name": "stdout",
     "output_type": "stream",
     "text": [
      "####.####.###..###..###..####.####.####.\n",
      "#.......#.#..#.#..#.#..#.#.......#.#....\n",
      "###....#..###..#..#.###..###....#..###..\n",
      "#.....#...#..#.###..#..#.#.....#...#....\n",
      "#....#....#..#.#....#..#.#....#....#....\n",
      "#....####.###..#....###..#....####.#....\n"
     ]
    }
   ],
   "source": [
    "for row in range(6):\n",
    "    ln = []\n",
    "    for col in range(40):\n",
    "        if x_vector[row*40+col] -1 <= col <= x_vector[row*40+col]+1:\n",
    "            ln.append('#')\n",
    "        else:\n",
    "            ln.append('.')\n",
    "    print(\"\".join([str(i) for i in ln])) "
   ]
  }
 ],
 "metadata": {
  "kernelspec": {
   "display_name": "Python 3 (ipykernel)",
   "language": "python",
   "name": "python3"
  },
  "language_info": {
   "codemirror_mode": {
    "name": "ipython",
    "version": 3
   },
   "file_extension": ".py",
   "mimetype": "text/x-python",
   "name": "python",
   "nbconvert_exporter": "python",
   "pygments_lexer": "ipython3",
   "version": "3.9.12"
  }
 },
 "nbformat": 4,
 "nbformat_minor": 5
}
