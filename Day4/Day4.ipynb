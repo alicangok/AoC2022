{
 "cells": [
  {
   "cell_type": "code",
   "execution_count": 18,
   "id": "a2018e7e",
   "metadata": {},
   "outputs": [],
   "source": [
    "#file = open('example.txt', 'r')\n",
    "file = open('input.txt', 'r')\n",
    "\n",
    "lines = file.readlines()"
   ]
  },
  {
   "cell_type": "code",
   "execution_count": 11,
   "id": "d124f20b",
   "metadata": {},
   "outputs": [
    {
     "name": "stdout",
     "output_type": "stream",
     "text": [
      "500\n"
     ]
    }
   ],
   "source": [
    "# part 1\n",
    "\n",
    "result = 0\n",
    "\n",
    "for line in lines:\n",
    "    nums = [int(c) for c in line.replace('-', ',').split(',')]\n",
    "    if (nums[2]>=nums[0]) and (nums[1]>=nums[3]):\n",
    "        result += 1\n",
    "    elif (nums[0]>=nums[2]) and (nums[3]>=nums[1]):\n",
    "        result += 1\n",
    "\n",
    "print(result)"
   ]
  },
  {
   "cell_type": "code",
   "execution_count": 20,
   "id": "ac4f3d68",
   "metadata": {},
   "outputs": [
    {
     "name": "stdout",
     "output_type": "stream",
     "text": [
      "815\n"
     ]
    }
   ],
   "source": [
    "# part 2\n",
    "\n",
    "result = 0\n",
    "\n",
    "for line in lines:\n",
    "    nums = [int(c) for c in line.replace('-', ',').split(',')]\n",
    "    if (nums[2]>=nums[0]) and (nums[1]>=nums[2]):\n",
    "        result += 1\n",
    "    elif (nums[3]>=nums[0]) and (nums[1]>=nums[3]):\n",
    "        result += 1\n",
    "    elif (nums[0]>=nums[2]) and (nums[3]>=nums[1]):\n",
    "        result += 1\n",
    "\n",
    "print(result)"
   ]
  }
 ],
 "metadata": {
  "kernelspec": {
   "display_name": "Python 3 (ipykernel)",
   "language": "python",
   "name": "python3"
  },
  "language_info": {
   "codemirror_mode": {
    "name": "ipython",
    "version": 3
   },
   "file_extension": ".py",
   "mimetype": "text/x-python",
   "name": "python",
   "nbconvert_exporter": "python",
   "pygments_lexer": "ipython3",
   "version": "3.9.7"
  }
 },
 "nbformat": 4,
 "nbformat_minor": 5
}
