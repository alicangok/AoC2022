{
 "cells": [
  {
   "cell_type": "code",
   "execution_count": 101,
   "id": "8d3b1669",
   "metadata": {},
   "outputs": [],
   "source": [
    "#file = open('example.txt', 'r')\n",
    "file = open('input.txt', 'r')\n",
    "\n",
    "lines = file.readlines()"
   ]
  },
  {
   "cell_type": "code",
   "execution_count": 102,
   "id": "72fb82eb",
   "metadata": {},
   "outputs": [],
   "source": [
    "items = []\n",
    "square = []\n",
    "multiplier = []\n",
    "addend = []\n",
    "test = []\n",
    "if_true = []\n",
    "if_false = []\n",
    "\n",
    "for i, line in enumerate(lines):\n",
    "    if i%7 == 1:\n",
    "        items.append([int(k) for k in line.strip().replace(',','').split(' ')[2:]])\n",
    "    if i%7 == 2:\n",
    "        if '*' in line:\n",
    "            if line.strip().replace(',','').split(' ')[-1] == 'old':\n",
    "                square.append(1)\n",
    "                multiplier.append(0)\n",
    "            else:\n",
    "                multiplier.append(int(line.strip().replace(',','').split(' ')[-1]))\n",
    "                square.append(0)\n",
    "            addend.append(0)\n",
    "        if '+' in line:\n",
    "            multiplier.append(1)\n",
    "            addend.append(int(line.strip().replace(',','').split(' ')[-1]))  \n",
    "            square.append(0)\n",
    "    if i%7 == 3:\n",
    "        test.append(int(line.strip().replace(',','').split(' ')[-1]))\n",
    "    if i%7 == 4:\n",
    "        if_true.append(int(line.strip().split(' ')[-1]))\n",
    "    if i%7 == 5:\n",
    "        if_false.append(int(line.strip().split(' ')[-1]))"
   ]
  },
  {
   "cell_type": "code",
   "execution_count": 66,
   "id": "5edd8585",
   "metadata": {},
   "outputs": [
    {
     "name": "stdout",
     "output_type": "stream",
     "text": [
      "120756\n"
     ]
    }
   ],
   "source": [
    "# part 1\n",
    "\n",
    "no_monkeys = len(items)\n",
    "\n",
    "counts = [0]*no_monkeys\n",
    "\n",
    "for turn in range(20):\n",
    "    for monkey in range(no_monkeys):\n",
    "        for i in range(len(items[monkey])):\n",
    "            counts[monkey] += 1\n",
    "            item = items[monkey].pop(0)\n",
    "            item = item*item*square[monkey] + item*multiplier[monkey] + addend[monkey]\n",
    "            item = item//3\n",
    "            if item%test[monkey] == 0:\n",
    "                items[if_true[monkey]].append(item)\n",
    "            else:\n",
    "                items[if_false[monkey]].append(item)\n",
    "\n",
    "counts.sort()\n",
    "print(counts[-2]*counts[-1])"
   ]
  },
  {
   "cell_type": "code",
   "execution_count": 103,
   "id": "4d765284",
   "metadata": {},
   "outputs": [
    {
     "name": "stdout",
     "output_type": "stream",
     "text": [
      "39109444654\n"
     ]
    }
   ],
   "source": [
    "# part 2\n",
    "\n",
    "no_monkeys = len(items)\n",
    "product = 1\n",
    "for monkey in range(no_monkeys):\n",
    "    product *= test[monkey]\n",
    "\n",
    "counts = [0]*no_monkeys\n",
    "\n",
    "for turn in range(10000):\n",
    "    for monkey in range(no_monkeys):\n",
    "        for i in range(len(items[monkey])):\n",
    "            counts[monkey] += 1\n",
    "            item = items[monkey].pop(0)\n",
    "            item = item*item*square[monkey] + item*multiplier[monkey] + addend[monkey]\n",
    "            if item%test[monkey] == 0:\n",
    "                items[if_true[monkey]].append(item%product)\n",
    "            else:\n",
    "                items[if_false[monkey]].append(item%product)\n",
    "\n",
    "counts.sort()\n",
    "print(counts[-2]*counts[-1])"
   ]
  }
 ],
 "metadata": {
  "kernelspec": {
   "display_name": "Python 3 (ipykernel)",
   "language": "python",
   "name": "python3"
  },
  "language_info": {
   "codemirror_mode": {
    "name": "ipython",
    "version": 3
   },
   "file_extension": ".py",
   "mimetype": "text/x-python",
   "name": "python",
   "nbconvert_exporter": "python",
   "pygments_lexer": "ipython3",
   "version": "3.9.7"
  }
 },
 "nbformat": 4,
 "nbformat_minor": 5
}
