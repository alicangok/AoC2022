{
 "cells": [
  {
   "cell_type": "code",
   "execution_count": 47,
   "id": "2b33e63d",
   "metadata": {},
   "outputs": [],
   "source": [
    "#file = open('example.txt', 'r')\n",
    "file = open('input.txt', 'r')\n",
    "\n",
    "lines = file.readlines()"
   ]
  },
  {
   "cell_type": "code",
   "execution_count": 42,
   "id": "146ce4df",
   "metadata": {},
   "outputs": [],
   "source": [
    "def score_line(line):\n",
    "    ours = ord(line[1])-ord('X')+1\n",
    "    theirs = ord(line[0])-ord('A')+1\n",
    "    return ours + scoring(ours, theirs)\n",
    "    \n",
    "def scoring(our, their):\n",
    "    if our == their:\n",
    "        return 3\n",
    "    if (our == 1) and (their == 3):\n",
    "        return 6\n",
    "    if (our == 2) and (their == 1):\n",
    "        return 6    \n",
    "    if (our == 3) and (their == 2):\n",
    "        return 6\n",
    "    return 0"
   ]
  },
  {
   "cell_type": "code",
   "execution_count": 43,
   "id": "bc93f0d4",
   "metadata": {},
   "outputs": [
    {
     "name": "stdout",
     "output_type": "stream",
     "text": [
      "12679\n"
     ]
    }
   ],
   "source": [
    "sum_score = 0\n",
    "for line in lines:\n",
    "    sum_score += score_line(line.split())\n",
    "    \n",
    "print(sum_score)"
   ]
  },
  {
   "cell_type": "code",
   "execution_count": 44,
   "id": "a27cc942",
   "metadata": {},
   "outputs": [],
   "source": [
    "def score_line(line):\n",
    "    result = (ord(line[1])-ord('X'))*3\n",
    "    theirs = ord(line[0])-ord('A')+1\n",
    "    return result + scoring(result, theirs)\n",
    "    \n",
    "def scoring(result, their):\n",
    "    if result == 3: # draw our == their:\n",
    "        return their\n",
    "    if (result == 6) and (their == 1): # we're winning\n",
    "        return 2\n",
    "    if (result == 6) and (their == 2):\n",
    "        return 3    \n",
    "    if (result == 6) and (their == 3):\n",
    "        return 1\n",
    "    if (result == 0) and (their == 1): # we're losing\n",
    "        return 3\n",
    "    if (result == 0) and (their == 2):\n",
    "        return 1    \n",
    "    if (result == 0) and (their == 3):\n",
    "        return 2"
   ]
  },
  {
   "cell_type": "code",
   "execution_count": 48,
   "id": "8deb7ebd",
   "metadata": {},
   "outputs": [
    {
     "name": "stdout",
     "output_type": "stream",
     "text": [
      "14470\n"
     ]
    }
   ],
   "source": [
    "sum_score = 0\n",
    "for line in lines:\n",
    "    sum_score += score_line(line.split())\n",
    "    \n",
    "print(sum_score)"
   ]
  }
 ],
 "metadata": {
  "kernelspec": {
   "display_name": "Python 3 (ipykernel)",
   "language": "python",
   "name": "python3"
  },
  "language_info": {
   "codemirror_mode": {
    "name": "ipython",
    "version": 3
   },
   "file_extension": ".py",
   "mimetype": "text/x-python",
   "name": "python",
   "nbconvert_exporter": "python",
   "pygments_lexer": "ipython3",
   "version": "3.9.7"
  }
 },
 "nbformat": 4,
 "nbformat_minor": 5
}
