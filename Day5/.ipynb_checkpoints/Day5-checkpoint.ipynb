{
 "cells": [
  {
   "cell_type": "code",
   "execution_count": 30,
   "id": "81c26ce3",
   "metadata": {},
   "outputs": [],
   "source": [
    "import re\n",
    "\n",
    "#file = open('example.txt', 'r')\n",
    "file = open('input.txt', 'r')\n",
    "\n",
    "no_stacks = 9 # 3 for example, 9 for input\n",
    "max_depth = 8 # 3 for example, 8 for input\n",
    "lines = file.readlines()"
   ]
  },
  {
   "cell_type": "code",
   "execution_count": 34,
   "id": "c32ef229",
   "metadata": {},
   "outputs": [
    {
     "name": "stdout",
     "output_type": "stream",
     "text": [
      "[['N', 'S', 'D', 'C', 'V', 'Q', 'T'], ['M', 'F', 'V'], ['F', 'Q', 'W', 'D', 'P', 'N', 'H', 'M'], ['D', 'Q', 'R', 'T', 'F'], ['R', 'F', 'M', 'N', 'Q', 'H', 'V', 'B'], ['C', 'F', 'G', 'N', 'P', 'W', 'Q'], ['W', 'F', 'R', 'L', 'C', 'T'], ['T', 'Z', 'N', 'S'], ['M', 'S', 'D', 'J', 'R', 'Q', 'H', 'N']]\n"
     ]
    }
   ],
   "source": [
    "# fill the stacks first\n",
    "\n",
    "stacks = [None] * no_stacks \n",
    "\n",
    "for i in range(no_stacks):\n",
    "    stacks[i] = []\n",
    "    for depth in range(max_depth):\n",
    "        if lines[max_depth-1-depth][4*i+1] != ' ':\n",
    "            stacks[i].append(lines[max_depth-1-depth][4*i+1])\n",
    "\n",
    "print(stacks)"
   ]
  },
  {
   "cell_type": "code",
   "execution_count": 32,
   "id": "bfed0b4d",
   "metadata": {},
   "outputs": [
    {
     "name": "stdout",
     "output_type": "stream",
     "text": [
      "F\n",
      "R\n",
      "D\n",
      "S\n",
      "Q\n",
      "R\n",
      "R\n",
      "C\n",
      "D\n"
     ]
    }
   ],
   "source": [
    "# part 1\n",
    "\n",
    "for i in range(max_depth+2, len(lines)):\n",
    "    op = [int(s) for s in re.findall(r'\\b\\d+\\b', lines[i])]\n",
    "    for j in range(op[0]):\n",
    "        stacks[op[2]-1].append(stacks[op[1]-1].pop())\n",
    "\n",
    "for k in range(no_stacks):\n",
    "    print(stacks[k].pop())"
   ]
  },
  {
   "cell_type": "code",
   "execution_count": 35,
   "id": "8c12e843",
   "metadata": {},
   "outputs": [
    {
     "name": "stdout",
     "output_type": "stream",
     "text": [
      "H\n",
      "R\n",
      "F\n",
      "T\n",
      "Q\n",
      "V\n",
      "W\n",
      "N\n",
      "N\n"
     ]
    }
   ],
   "source": [
    "# part 2\n",
    "\n",
    "for i in range(max_depth+2, len(lines)):\n",
    "    op = [int(s) for s in re.findall(r'\\b\\d+\\b', lines[i])]\n",
    "    temp_stack = []\n",
    "    for j in range(op[0]):\n",
    "        temp_stack.append(stacks[op[1]-1].pop())\n",
    "    for j in range(op[0]):\n",
    "        stacks[op[2]-1].append(temp_stack.pop())\n",
    "\n",
    "for k in range(no_stacks):\n",
    "    print(stacks[k].pop())"
   ]
  }
 ],
 "metadata": {
  "kernelspec": {
   "display_name": "Python 3 (ipykernel)",
   "language": "python",
   "name": "python3"
  },
  "language_info": {
   "codemirror_mode": {
    "name": "ipython",
    "version": 3
   },
   "file_extension": ".py",
   "mimetype": "text/x-python",
   "name": "python",
   "nbconvert_exporter": "python",
   "pygments_lexer": "ipython3",
   "version": "3.9.12"
  }
 },
 "nbformat": 4,
 "nbformat_minor": 5
}
