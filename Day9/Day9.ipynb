{
 "cells": [
  {
   "cell_type": "code",
   "execution_count": 174,
   "id": "bd368056",
   "metadata": {},
   "outputs": [],
   "source": [
    "#file = open('example.txt', 'r')\n",
    "file = open('input.txt', 'r')\n",
    "\n",
    "lines = file.readlines()"
   ]
  },
  {
   "cell_type": "code",
   "execution_count": 175,
   "id": "e2d67493",
   "metadata": {},
   "outputs": [
    {
     "data": {
      "text/plain": [
       "[-65, -47]"
      ]
     },
     "execution_count": 175,
     "metadata": {},
     "output_type": "execute_result"
    }
   ],
   "source": [
    "dirs = []\n",
    "steps = []\n",
    "\n",
    "for line in lines:\n",
    "    di, _s, step = line.strip().rpartition(' ')\n",
    "    dirs.append(di)\n",
    "    steps.append(int(step))\n",
    "    \n",
    "totals = [0]*2 # UD, LR\n",
    "min_totals = [0]*2\n",
    "for i, di in enumerate(dirs):\n",
    "    if di == 'U':\n",
    "        totals[0] += steps[i]\n",
    "        min_totals[0] = min(min_totals[0], totals[0])\n",
    "    elif di == 'D':\n",
    "        totals[0] -= steps[i]\n",
    "        min_totals[0] = min(min_totals[0], totals[0])\n",
    "    elif di == 'L':\n",
    "        totals[1] -= steps[i]\n",
    "        min_totals[1] = min(min_totals[1], totals[1])\n",
    "    elif di == 'R':\n",
    "        totals[1] += steps[i]\n",
    "        min_totals[1] = min(min_totals[1], totals[1])\n",
    "        \n",
    "min_totals"
   ]
  },
  {
   "cell_type": "code",
   "execution_count": 176,
   "id": "dbaa8dde",
   "metadata": {},
   "outputs": [
    {
     "data": {
      "text/plain": [
       "[196, 144]"
      ]
     },
     "execution_count": 176,
     "metadata": {},
     "output_type": "execute_result"
    }
   ],
   "source": [
    "dirs = []\n",
    "steps = []\n",
    "\n",
    "for line in lines:\n",
    "    di, _s, step = line.strip().rpartition(' ')\n",
    "    dirs.append(di)\n",
    "    steps.append(int(step))\n",
    "    \n",
    "totals = [0]*2 # UD, LR\n",
    "max_totals = [0]*2\n",
    "for i, di in enumerate(dirs):\n",
    "    if di == 'U':\n",
    "        totals[0] += steps[i]\n",
    "        max_totals[0] = max(max_totals[0], totals[0])\n",
    "    elif di == 'D':\n",
    "        totals[0] -= steps[i]\n",
    "        max_totals[0] = max(max_totals[0], totals[0])\n",
    "    elif di == 'L':\n",
    "        totals[1] -= steps[i]\n",
    "        max_totals[1] = max(max_totals[1], totals[1])\n",
    "    elif di == 'R':\n",
    "        totals[1] += steps[i]\n",
    "        max_totals[1] = max(max_totals[1], totals[1])\n",
    "        \n",
    "max_totals"
   ]
  },
  {
   "cell_type": "code",
   "execution_count": 182,
   "id": "6ba11405",
   "metadata": {},
   "outputs": [
    {
     "name": "stdout",
     "output_type": "stream",
     "text": [
      "5960\n"
     ]
    }
   ],
   "source": [
    "# part 1\n",
    "\n",
    "def move(head, tail):\n",
    "    move = [0, 0]\n",
    "    diff = [0, 0]\n",
    "    diff[0] = head[0]-tail[0]\n",
    "    diff[1] = head[1]-tail[1]\n",
    "    #print(diff[1])\n",
    "    if diff == [2, 0]:\n",
    "        move[0] = 1\n",
    "    if diff == [-2, 0]:\n",
    "        move[0] = -1    \n",
    "    if diff == [0, 2]:\n",
    "        move[1] = 1\n",
    "    if diff == [0, -2]:\n",
    "        move[1] = -1\n",
    "    if diff == [2,1] or diff == [1,2]:\n",
    "        move[0] = 1\n",
    "        move[1] = 1\n",
    "    if diff == [-2,-1] or diff == [-1,-2]:\n",
    "        move[0] = -1\n",
    "        move[1] = -1\n",
    "    if diff == [-2,1] or diff == [-1,2]:\n",
    "        move[0] = -1\n",
    "        move[1] = 1\n",
    "    if diff == [2,-1] or diff == [1,-2]:\n",
    "        move[0] = 1\n",
    "        move[1] = -1\n",
    "    return move\n",
    "\n",
    "grid = [[]] * ( min_totals[0]*-1 + 1 + max_totals[0] )\n",
    "for i in range(len(grid)):\n",
    "    grid[i] = [0] * ( min_totals[1]*-1 + 1 + max_totals[1] )\n",
    "\n",
    "head = [ min_totals[0]*-1 , min_totals[1]*-1]\n",
    "tail = [ min_totals[0]*-1 , min_totals[1]*-1]\n",
    "\n",
    "grid[tail[0]][tail[1]] = 1\n",
    "\n",
    "for i, di in enumerate(dirs):\n",
    "    for j in range(steps[i]):\n",
    "        if di == 'U':\n",
    "            head[0] += 1\n",
    "        elif di == 'D':\n",
    "            head[0] -= 1\n",
    "        elif di == 'L':\n",
    "            head[1] -= 1\n",
    "        elif di == 'R':\n",
    "            head[1] += 1\n",
    "        #print('head', head)\n",
    "        movement = move(head, tail)\n",
    "        #print(movement)\n",
    "        tail[0] += movement[0]\n",
    "        tail[1] += movement[1]\n",
    "        #print('tail', tail)\n",
    "        #print('epoch')\n",
    "        #print(tail)\n",
    "        grid[tail[0]][tail[1]] = 1\n",
    "\n",
    "print(sum([sum(g) for g in grid]))"
   ]
  },
  {
   "cell_type": "code",
   "execution_count": 183,
   "id": "8bf5cdd7",
   "metadata": {},
   "outputs": [
    {
     "name": "stdout",
     "output_type": "stream",
     "text": [
      "2327\n"
     ]
    }
   ],
   "source": [
    "# part 2\n",
    "\n",
    "def move(head, tail):\n",
    "    move = [0, 0]\n",
    "    diff = [0, 0]\n",
    "    diff[0] = head[0]-tail[0]\n",
    "    diff[1] = head[1]-tail[1]\n",
    "    if diff == [2, 0]:\n",
    "        move[0] = 1\n",
    "    if diff == [-2, 0]:\n",
    "        move[0] = -1    \n",
    "    if diff == [0, 2]:\n",
    "        move[1] = 1\n",
    "    if diff == [0, -2]:\n",
    "        move[1] = -1\n",
    "    if diff == [2,1] or diff == [1,2] or diff == [2,2]:\n",
    "        move[0] = 1\n",
    "        move[1] = 1\n",
    "    if diff == [-2,-1] or diff == [-1,-2] or diff == [-2, -2]:\n",
    "        move[0] = -1\n",
    "        move[1] = -1\n",
    "    if diff == [-2,1] or diff == [-1,2] or diff == [-2, 2]:\n",
    "        move[0] = -1\n",
    "        move[1] = 1\n",
    "    if diff == [2,-1] or diff == [1,-2] or diff == [2, -2]:\n",
    "        move[0] = 1\n",
    "        move[1] = -1\n",
    "    return move\n",
    "\n",
    "grid = [[]] * ( min_totals[0]*-1 + 1 + max_totals[0] )\n",
    "for i in range(len(grid)):\n",
    "    grid[i] = [0] * ( min_totals[1]*-1 + 1 + max_totals[1] )\n",
    "\n",
    "head = [ min_totals[0]*-1 , min_totals[1]*-1]\n",
    "\n",
    "cursors = [[]] * 10\n",
    "for i in range(len(cursors)):\n",
    "    cursors[i] = [min_totals[0]*-1 , min_totals[1]*-1]\n",
    "grid[cursors[9][0]][cursors[9][1]] = 1\n",
    "\n",
    "for i, di in enumerate(dirs):\n",
    "    for j in range(steps[i]):\n",
    "        if di == 'U':\n",
    "            head[0] += 1\n",
    "        elif di == 'D':\n",
    "            head[0] -= 1\n",
    "        elif di == 'L':\n",
    "            head[1] -= 1\n",
    "        elif di == 'R':\n",
    "            head[1] += 1\n",
    "        cursors[0][0] = head[0]\n",
    "        cursors[0][1] = head[1]\n",
    "        for c in range(1,10):\n",
    "            movement = move(cursors[c-1], cursors[c])\n",
    "            cursors[c][0] += movement[0]\n",
    "            cursors[c][1] += movement[1]\n",
    "        grid[cursors[9][0]][cursors[9][1]] = 1\n",
    "\n",
    "print(sum([sum(g) for g in grid]))"
   ]
  }
 ],
 "metadata": {
  "kernelspec": {
   "display_name": "Python 3 (ipykernel)",
   "language": "python",
   "name": "python3"
  },
  "language_info": {
   "codemirror_mode": {
    "name": "ipython",
    "version": 3
   },
   "file_extension": ".py",
   "mimetype": "text/x-python",
   "name": "python",
   "nbconvert_exporter": "python",
   "pygments_lexer": "ipython3",
   "version": "3.9.12"
  }
 },
 "nbformat": 4,
 "nbformat_minor": 5
}
