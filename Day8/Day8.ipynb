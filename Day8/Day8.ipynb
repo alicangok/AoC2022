{
 "cells": [
  {
   "cell_type": "code",
   "execution_count": 73,
   "id": "a0b4048a",
   "metadata": {},
   "outputs": [],
   "source": [
    "#file = open('example.txt', 'r')\n",
    "file = open('input.txt', 'r')\n",
    "\n",
    "lines = file.readlines()\n",
    "\n",
    "w = len(lines)\n",
    "h = len(lines[0].strip())\n",
    "\n",
    "visible = 2*w + 2*h - 4\n",
    "\n",
    "nums = []\n",
    "\n",
    "for i, line in enumerate(lines):\n",
    "    line = line.strip()\n",
    "    tmp = []\n",
    "    for c in line:\n",
    "        tmp.append(int(c))\n",
    "    nums.append(tmp)"
   ]
  },
  {
   "cell_type": "code",
   "execution_count": 54,
   "id": "832fc878",
   "metadata": {},
   "outputs": [
    {
     "name": "stdout",
     "output_type": "stream",
     "text": [
      "1538\n"
     ]
    }
   ],
   "source": [
    "# part 1\n",
    "\n",
    "for i in range(1,w-1):\n",
    "    for j in range(1,h-1):\n",
    "        ind = [1,1,1,1]\n",
    "        # print(i,j)\n",
    "        for m in range(0,i): # look up\n",
    "            if nums[i][j] <= nums[m][j]:\n",
    "                ind[0] = 0\n",
    "        for m in range(i+1, w): # look down\n",
    "            if nums[i][j] <= nums[m][j]:\n",
    "                ind[1] = 0\n",
    "        for n in range(0,j): # look left\n",
    "            if nums[i][j] <= nums[i][n]:\n",
    "                ind[2] = 0\n",
    "        for n in range(j+1, w): # look right\n",
    "            if nums[i][j] <= nums[i][n]:\n",
    "                ind[3] = 0\n",
    "        visible += max(ind)\n",
    "        \n",
    "print(visible)"
   ]
  },
  {
   "cell_type": "code",
   "execution_count": 76,
   "id": "71c1d7f9",
   "metadata": {},
   "outputs": [
    {
     "name": "stdout",
     "output_type": "stream",
     "text": [
      "496125\n"
     ]
    }
   ],
   "source": [
    "# part 2\n",
    "\n",
    "max_score = 0\n",
    "for i in range(1,w-1):\n",
    "    for j in range(1,h-1):\n",
    "        sc = [0,0,0,0]\n",
    "        for m in range(i-1,-1,-1): # look up\n",
    "            if nums[i][j] > nums[m][j]:\n",
    "                sc[0]+= 1\n",
    "            else:\n",
    "                sc[0]+= 1\n",
    "                break\n",
    "        for m in range(i+1, w): # look down\n",
    "            if nums[i][j] > nums[m][j]:\n",
    "                sc[1]+= 1\n",
    "            else:\n",
    "                sc[1]+= 1\n",
    "                break\n",
    "        for n in range(j-1,-1,-1): # look left\n",
    "            if nums[i][j] > nums[i][n]:\n",
    "                sc[2]+= 1\n",
    "            else:\n",
    "                sc[2]+= 1\n",
    "                break\n",
    "        for n in range(j+1, w): # look right\n",
    "            if nums[i][j] > nums[i][n]:\n",
    "                sc[3]+= 1\n",
    "            else:\n",
    "                sc[3]+= 1\n",
    "                break\n",
    "        if max_score < sc[0] * sc[1] * sc[2] * sc[3]:\n",
    "            max_score = sc[0] * sc[1] * sc[2] * sc[3]\n",
    "\n",
    "print(max_score)"
   ]
  }
 ],
 "metadata": {
  "kernelspec": {
   "display_name": "Python 3 (ipykernel)",
   "language": "python",
   "name": "python3"
  },
  "language_info": {
   "codemirror_mode": {
    "name": "ipython",
    "version": 3
   },
   "file_extension": ".py",
   "mimetype": "text/x-python",
   "name": "python",
   "nbconvert_exporter": "python",
   "pygments_lexer": "ipython3",
   "version": "3.9.12"
  }
 },
 "nbformat": 4,
 "nbformat_minor": 5
}
