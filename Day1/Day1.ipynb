{
 "cells": [
  {
   "cell_type": "code",
   "execution_count": 10,
   "id": "07fa784a",
   "metadata": {},
   "outputs": [
    {
     "name": "stdout",
     "output_type": "stream",
     "text": [
      "66616\n"
     ]
    }
   ],
   "source": [
    "# file = open('example.txt', 'r')\n",
    "file = open('input.txt', 'r')\n",
    "\n",
    "loads = []\n",
    "cur_load = 0\n",
    "lines = file.readlines()\n",
    "    \n",
    "for line in lines:\n",
    "    if line.strip() == \"\":\n",
    "        loads.append(cur_load)\n",
    "        cur_load = 0\n",
    "    else:\n",
    "        cur_load += int(line.strip())\n",
    "    \n",
    "print(max(loads))"
   ]
  },
  {
   "cell_type": "code",
   "execution_count": 13,
   "id": "67adcfe5",
   "metadata": {},
   "outputs": [
    {
     "data": {
      "text/plain": [
       "199172"
      ]
     },
     "execution_count": 13,
     "metadata": {},
     "output_type": "execute_result"
    }
   ],
   "source": [
    "sum(sorted(loads, reverse=True)[0:3])"
   ]
  }
 ],
 "metadata": {
  "kernelspec": {
   "display_name": "Python 3 (ipykernel)",
   "language": "python",
   "name": "python3"
  },
  "language_info": {
   "codemirror_mode": {
    "name": "ipython",
    "version": 3
   },
   "file_extension": ".py",
   "mimetype": "text/x-python",
   "name": "python",
   "nbconvert_exporter": "python",
   "pygments_lexer": "ipython3",
   "version": "3.9.12"
  }
 },
 "nbformat": 4,
 "nbformat_minor": 5
}
