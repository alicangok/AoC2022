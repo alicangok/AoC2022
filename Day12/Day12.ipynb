{
 "cells": [
  {
   "cell_type": "code",
   "execution_count": 50,
   "id": "97189afd",
   "metadata": {},
   "outputs": [],
   "source": [
    "#file = open('example.txt', 'r')\n",
    "file = open('input.txt', 'r')\n",
    "\n",
    "lines = file.readlines()"
   ]
  },
  {
   "cell_type": "code",
   "execution_count": 55,
   "id": "5f9c124d",
   "metadata": {},
   "outputs": [],
   "source": [
    "map_el = []\n",
    "\n",
    "for i, line in enumerate(lines):\n",
    "    map_el.append([ord(x)-ord('a') for x in line.strip()])\n",
    "    if ord('E')-ord('a') in map_el[-1]:\n",
    "        idx = map_el[-1].index(ord('E')-ord('a'))\n",
    "        map_el[-1][idx] = ord('z') - ord('a')\n",
    "        goal = [i, idx]\n",
    "    if ord('S')-ord('a') in map_el[-1]:\n",
    "        idx = map_el[-1].index(ord('S')-ord('a'))\n",
    "        map_el[-1][idx] = 0\n",
    "        start = [i, idx]"
   ]
  },
  {
   "cell_type": "code",
   "execution_count": 43,
   "id": "fc587c1a",
   "metadata": {},
   "outputs": [
    {
     "name": "stdout",
     "output_type": "stream",
     "text": [
      "31\n"
     ]
    }
   ],
   "source": [
    "# part 1\n",
    "\n",
    "map_steps = []\n",
    "avail_traversals = []\n",
    "rows = len(map_el) \n",
    "cols = len(map_el[0])\n",
    "dirs = [ [-1, 0], [1,0], [0, -1], [0, 1]]\n",
    "\n",
    "# initialize steps and available traversals\n",
    "for i in range(rows):\n",
    "    map_steps.append([1e6]*cols)\n",
    "    avail_traversals.append([None]*cols)\n",
    "    \n",
    "map_steps[start[0]][start[1]] = 0\n",
    "    \n",
    "# fill available traversals\n",
    "for i in range(rows):\n",
    "    for j in range(cols):\n",
    "        temp = []\n",
    "        for d in dirs:\n",
    "            if (0<=i+d[0]<rows) and (0<=j+d[1]<cols):\n",
    "                if map_el[i+d[0]][j+d[1]] <= map_el[i][j] + 1:\n",
    "                    temp.append([i+d[0], j+d[1]])\n",
    "        avail_traversals[i][j] = temp\n",
    "        \n",
    "step = 0\n",
    "while True:\n",
    "    step += 1\n",
    "    for i in range(rows):\n",
    "        for j in range(cols):\n",
    "            for d in avail_traversals[i][j]:\n",
    "                if map_steps[d[0]][d[1]] > map_steps[i][j] + 1:\n",
    "                    map_steps[d[0]][d[1]] = map_steps[i][j] + 1\n",
    "    \n",
    "    if map_steps[goal[0]][goal[1]] < 1e6:\n",
    "        break\n",
    "    \n",
    "print(map_steps[goal[0]][goal[1]])"
   ]
  },
  {
   "cell_type": "code",
   "execution_count": 59,
   "id": "c0cb63dd",
   "metadata": {},
   "outputs": [
    {
     "name": "stdout",
     "output_type": "stream",
     "text": [
      "446\n"
     ]
    }
   ],
   "source": [
    "# part 2, do things in reverse\n",
    "\n",
    "map_steps = []\n",
    "avail_traversals = []\n",
    "rows = len(map_el) \n",
    "cols = len(map_el[0])\n",
    "dirs = [ [-1, 0], [1,0], [0, -1], [0, 1]]\n",
    "\n",
    "list_possible_starting = []\n",
    "for i in range(rows):\n",
    "    for j in range(cols):\n",
    "        if map_el[i][j] == 0:\n",
    "            list_possible_starting.append([i, j])\n",
    "\n",
    "# initialize steps and available traversals\n",
    "for i in range(rows):\n",
    "    map_steps.append([1e6]*cols)\n",
    "    avail_traversals.append([None]*cols)\n",
    "    \n",
    "map_steps[goal[0]][goal[1]] = 0\n",
    "    \n",
    "# fill available traversals\n",
    "for i in range(rows):\n",
    "    for j in range(cols):\n",
    "        temp = []\n",
    "        for d in dirs:\n",
    "            if (0<=i+d[0]<rows) and (0<=j+d[1]<cols):\n",
    "                if map_el[i+d[0]][j+d[1]] >= map_el[i][j] - 1:\n",
    "                    temp.append([i+d[0], j+d[1]])\n",
    "        avail_traversals[i][j] = temp\n",
    "        \n",
    "steps = 0\n",
    "min_steps = 1e6\n",
    "while steps < 400: # heuristic, found after a initial run (which returned a slightly higher result than the correct one)\n",
    "    steps += 1\n",
    "    for i in range(rows):\n",
    "        for j in range(cols):\n",
    "            for d in avail_traversals[i][j]:\n",
    "                if map_steps[d[0]][d[1]] > map_steps[i][j] + 1:\n",
    "                    map_steps[d[0]][d[1]] = map_steps[i][j] + 1\n",
    "    \n",
    "    for k in list_possible_starting:\n",
    "        if map_steps[k[0]][k[1]] < 1e6:\n",
    "            min_steps = min(min_steps, map_steps[k[0]][k[1]])\n",
    "\n",
    "print(min_steps)"
   ]
  }
 ],
 "metadata": {
  "kernelspec": {
   "display_name": "Python 3 (ipykernel)",
   "language": "python",
   "name": "python3"
  },
  "language_info": {
   "codemirror_mode": {
    "name": "ipython",
    "version": 3
   },
   "file_extension": ".py",
   "mimetype": "text/x-python",
   "name": "python",
   "nbconvert_exporter": "python",
   "pygments_lexer": "ipython3",
   "version": "3.9.12"
  }
 },
 "nbformat": 4,
 "nbformat_minor": 5
}
