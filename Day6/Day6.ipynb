{
 "cells": [
  {
   "cell_type": "code",
   "execution_count": 36,
   "id": "1c94119f",
   "metadata": {},
   "outputs": [],
   "source": [
    "#file = open('example.txt', 'r')\n",
    "file = open('input.txt', 'r')\n",
    "\n",
    "lines = file.readlines()\n",
    "no_chars = 14"
   ]
  },
  {
   "cell_type": "code",
   "execution_count": 37,
   "id": "1426b15f",
   "metadata": {},
   "outputs": [
    {
     "name": "stdout",
     "output_type": "stream",
     "text": [
      "3153\n"
     ]
    }
   ],
   "source": [
    "last4 = lines[0][0:no_chars]\n",
    "counter = 0\n",
    "for char in lines[0]:\n",
    "    counter = counter + 1\n",
    "    if len(set(last4)) == 14:\n",
    "        break\n",
    "    last4 = last4[1:no_chars] + char\n",
    "    \n",
    "print(counter-1)\n",
    "    "
   ]
  }
 ],
 "metadata": {
  "kernelspec": {
   "display_name": "Python 3 (ipykernel)",
   "language": "python",
   "name": "python3"
  },
  "language_info": {
   "codemirror_mode": {
    "name": "ipython",
    "version": 3
   },
   "file_extension": ".py",
   "mimetype": "text/x-python",
   "name": "python",
   "nbconvert_exporter": "python",
   "pygments_lexer": "ipython3",
   "version": "3.9.12"
  }
 },
 "nbformat": 4,
 "nbformat_minor": 5
}
